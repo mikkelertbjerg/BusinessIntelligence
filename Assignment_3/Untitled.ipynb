{
 "cells": [
  {
   "cell_type": "code",
   "execution_count": 1,
   "metadata": {},
   "outputs": [],
   "source": [
    "import pandas as pd\n",
    "import glob, os, zipfile, shutil\n",
    "from os import listdir\n",
    "from osmread import parse_file, Node\n",
    "from collections import defaultdict\n",
    "import numpy as np\n",
    "from matplotlib import pyplot as plt\n",
    "import dask.dataframe as dd\n",
    "import osmium\n",
    "import collections"
   ]
  },
  {
   "cell_type": "code",
   "execution_count": 2,
   "metadata": {},
   "outputs": [],
   "source": [
    "class CounterHandler(osmium.SimpleHandler):\n",
    "    def __init__(self):\n",
    "        osmium.SimpleHandler.__init__(self)\n",
    "        self.num_nodes = 0\n",
    "      #  self.postcodes = defaultdict(lambda: defaultdict(dict))\n",
    "        self.postcodes = collections.defaultdict(dict)\n",
    "\n",
    "    def node(self, n):\n",
    "    \tif ('addr:street' in n.tags and \n",
    "        'addr:postcode' in n.tags and \n",
    "        'addr:housenumber' in n.tags):\n",
    "            self.num_nodes += 1\n",
    "            street_field = n.tags['addr:street']\n",
    "            houseno_field = n.tags['addr:housenumber']\n",
    "            search_street = ' '.join([street_field,houseno_field])\n",
    "            lat = n['lat']\n",
    "            lon = n['lon']\n",
    "            my_tuple = (lat,lon)\n",
    "            self.postcodes[n.tags['addr:postcode']][search_street] = my_tuple"
   ]
  },
  {
   "cell_type": "code",
   "execution_count": 3,
   "metadata": {},
   "outputs": [],
   "source": [
    "def calc_coords2(row):\n",
    "    myVal = row['zip_code'][0:4]\n",
    "    print(row)\n",
    "    #print(\"zip\",myVal)\n",
    "    narrowVals = h.postcodes[myVal]\n",
    "    #print(\"nvals:\",narrowVals)\n",
    "    for key in narrowVals:\n",
    "    \t#print(\"TEST\")\n",
    "    \t#print(key,\" ||||||| \",row['address'])\n",
    "\n",
    "    \tif key == row['address']:\n",
    "            row[cords] = narrowVals[key]\n",
    "            print(\"HIT!\")\n",
    "            break;"
   ]
  },
  {
   "cell_type": "code",
   "execution_count": 4,
   "metadata": {},
   "outputs": [],
   "source": [
    "def test_decode():\n",
    "    h.apply_file('./denmark-latest.osm')\n",
    "    print(\"Number of nodes: %d\" % h.num_nodes)\n",
    "    print(len(h.postcodes))"
   ]
  },
  {
   "cell_type": "code",
   "execution_count": 5,
   "metadata": {},
   "outputs": [],
   "source": [
    "def run():\n",
    "\n",
    "    path = r'C:\\Users\\mwe1\\Desktop\\CPH0919\\BI\\BI-master\\Assignment3\\boliga'                     \n",
    "    all_files = glob.glob(os.path.join(path, \"*.csv\"))    \n",
    "    df = dd.read_csv(all_files, dtype={'price_change_in_pct': 'float64'})\n",
    "    df.assign(cords=\"0\")\n",
    "    print(\"STARTING TO APPLY CALC CORDS\")\n",
    "    df.apply(calc_coords2, axis=1).compute()"
   ]
  },
  {
   "cell_type": "code",
   "execution_count": 6,
   "metadata": {},
   "outputs": [
    {
     "ename": "TypeError",
     "evalue": "'osmium.osm._osm.Node' object is not subscriptable",
     "output_type": "error",
     "traceback": [
      "\u001b[1;31m---------------------------------------------------------------------------\u001b[0m",
      "\u001b[1;31mTypeError\u001b[0m                                 Traceback (most recent call last)",
      "\u001b[1;32m<ipython-input-6-1448c164e720>\u001b[0m in \u001b[0;36m<module>\u001b[1;34m\u001b[0m\n\u001b[0;32m      1\u001b[0m \u001b[0mh\u001b[0m \u001b[1;33m=\u001b[0m \u001b[0mCounterHandler\u001b[0m\u001b[1;33m(\u001b[0m\u001b[1;33m)\u001b[0m\u001b[1;33m\u001b[0m\u001b[1;33m\u001b[0m\u001b[0m\n\u001b[1;32m----> 2\u001b[1;33m \u001b[0mtest_decode\u001b[0m\u001b[1;33m(\u001b[0m\u001b[1;33m)\u001b[0m\u001b[1;33m\u001b[0m\u001b[1;33m\u001b[0m\u001b[0m\n\u001b[0m\u001b[0;32m      3\u001b[0m \u001b[1;33m\u001b[0m\u001b[0m\n",
      "\u001b[1;32m<ipython-input-4-4503e9a3cbd9>\u001b[0m in \u001b[0;36mtest_decode\u001b[1;34m()\u001b[0m\n\u001b[0;32m      1\u001b[0m \u001b[1;32mdef\u001b[0m \u001b[0mtest_decode\u001b[0m\u001b[1;33m(\u001b[0m\u001b[1;33m)\u001b[0m\u001b[1;33m:\u001b[0m\u001b[1;33m\u001b[0m\u001b[1;33m\u001b[0m\u001b[0m\n\u001b[1;32m----> 2\u001b[1;33m     \u001b[0mh\u001b[0m\u001b[1;33m.\u001b[0m\u001b[0mapply_file\u001b[0m\u001b[1;33m(\u001b[0m\u001b[1;34m'./denmark-latest.osm'\u001b[0m\u001b[1;33m)\u001b[0m\u001b[1;33m\u001b[0m\u001b[1;33m\u001b[0m\u001b[0m\n\u001b[0m\u001b[0;32m      3\u001b[0m     \u001b[0mprint\u001b[0m\u001b[1;33m(\u001b[0m\u001b[1;34m\"Number of nodes: %d\"\u001b[0m \u001b[1;33m%\u001b[0m \u001b[0mh\u001b[0m\u001b[1;33m.\u001b[0m\u001b[0mnum_nodes\u001b[0m\u001b[1;33m)\u001b[0m\u001b[1;33m\u001b[0m\u001b[1;33m\u001b[0m\u001b[0m\n\u001b[0;32m      4\u001b[0m     \u001b[0mprint\u001b[0m\u001b[1;33m(\u001b[0m\u001b[0mlen\u001b[0m\u001b[1;33m(\u001b[0m\u001b[0mh\u001b[0m\u001b[1;33m.\u001b[0m\u001b[0mpostcodes\u001b[0m\u001b[1;33m)\u001b[0m\u001b[1;33m)\u001b[0m\u001b[1;33m\u001b[0m\u001b[1;33m\u001b[0m\u001b[0m\n",
      "\u001b[1;32m<ipython-input-2-2e657bfa00e6>\u001b[0m in \u001b[0;36mnode\u001b[1;34m(self, n)\u001b[0m\n\u001b[0;32m     14\u001b[0m             \u001b[0mhouseno_field\u001b[0m \u001b[1;33m=\u001b[0m \u001b[0mn\u001b[0m\u001b[1;33m.\u001b[0m\u001b[0mtags\u001b[0m\u001b[1;33m[\u001b[0m\u001b[1;34m'addr:housenumber'\u001b[0m\u001b[1;33m]\u001b[0m\u001b[1;33m\u001b[0m\u001b[1;33m\u001b[0m\u001b[0m\n\u001b[0;32m     15\u001b[0m             \u001b[0msearch_street\u001b[0m \u001b[1;33m=\u001b[0m \u001b[1;34m' '\u001b[0m\u001b[1;33m.\u001b[0m\u001b[0mjoin\u001b[0m\u001b[1;33m(\u001b[0m\u001b[1;33m[\u001b[0m\u001b[0mstreet_field\u001b[0m\u001b[1;33m,\u001b[0m\u001b[0mhouseno_field\u001b[0m\u001b[1;33m]\u001b[0m\u001b[1;33m)\u001b[0m\u001b[1;33m\u001b[0m\u001b[1;33m\u001b[0m\u001b[0m\n\u001b[1;32m---> 16\u001b[1;33m             \u001b[0mlat\u001b[0m \u001b[1;33m=\u001b[0m \u001b[0mn\u001b[0m\u001b[1;33m[\u001b[0m\u001b[1;34m'lat'\u001b[0m\u001b[1;33m]\u001b[0m\u001b[1;33m\u001b[0m\u001b[1;33m\u001b[0m\u001b[0m\n\u001b[0m\u001b[0;32m     17\u001b[0m             \u001b[0mlon\u001b[0m \u001b[1;33m=\u001b[0m \u001b[0mn\u001b[0m\u001b[1;33m[\u001b[0m\u001b[1;34m'lon'\u001b[0m\u001b[1;33m]\u001b[0m\u001b[1;33m\u001b[0m\u001b[1;33m\u001b[0m\u001b[0m\n\u001b[0;32m     18\u001b[0m             \u001b[0mmy_tuple\u001b[0m \u001b[1;33m=\u001b[0m \u001b[1;33m(\u001b[0m\u001b[0mlat\u001b[0m\u001b[1;33m,\u001b[0m\u001b[0mlon\u001b[0m\u001b[1;33m)\u001b[0m\u001b[1;33m\u001b[0m\u001b[1;33m\u001b[0m\u001b[0m\n",
      "\u001b[1;31mTypeError\u001b[0m: 'osmium.osm._osm.Node' object is not subscriptable"
     ]
    }
   ],
   "source": [
    "h = CounterHandler()\n",
    "test_decode()\n",
    "   "
   ]
  },
  {
   "cell_type": "code",
   "execution_count": null,
   "metadata": {},
   "outputs": [],
   "source": [
    "run()"
   ]
  },
  {
   "cell_type": "code",
   "execution_count": null,
   "metadata": {},
   "outputs": [],
   "source": []
  }
 ],
 "metadata": {
  "kernelspec": {
   "display_name": "Python 3",
   "language": "python",
   "name": "python3"
  },
  "language_info": {
   "codemirror_mode": {
    "name": "ipython",
    "version": 3
   },
   "file_extension": ".py",
   "mimetype": "text/x-python",
   "name": "python",
   "nbconvert_exporter": "python",
   "pygments_lexer": "ipython3",
   "version": "3.7.3"
  }
 },
 "nbformat": 4,
 "nbformat_minor": 2
}
